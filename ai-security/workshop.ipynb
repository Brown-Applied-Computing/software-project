{
 "cells": [
  {
   "cell_type": "markdown",
   "metadata": {},
   "source": [
    "## Brown Applied Computing\n",
    "### Software Workshop: Deepfakes, cryptography, and AI\n",
    "\n",
    "**Scenario:** Vector has just gained access to the latest AI deepfake technology and is using it to spread misinformation about Gru. He has created false media showing Gru doing things such as rescuing innocent citizens in trouble, being friendly to his neighbors, and and raising money for charity. Naturally, as a supervillain, Gru is unhappy about this. **Help Gru use cryptography to expose Vector's misinformation campaign and restore his reputation as a supervillain!**\n",
    "\n",
    "![Gru using a freeze ray on Vector](https://wallpapers.com/images/hd/despicable-me-gru-vs-vector-e8twxs81xaoa3m5h.jpg)"
   ]
  },
  {
   "cell_type": "code",
   "execution_count": 1,
   "metadata": {},
   "outputs": [],
   "source": [
    "# We will start with some large prime numbers p and q. It is important that p-1 is divisible by q.\n",
    "p = 199933\n",
    "q = 16661\n",
    "assert ((p-1)/q) % 1.0 == 0 # check divisibility"
   ]
  },
  {
   "cell_type": "markdown",
   "metadata": {},
   "source": [
    "Now we have to do just a little bit of math. Bear with us!\n",
    "\n",
    "Let's talk about **exponentiation** and **logarithms**. Remember, a logarithm is the inverse of exponentiation. Exponentiation is something like $2^{10} = 1024$. Logarithms work like $\\log_2 (1024) = 10$."
   ]
  },
  {
   "cell_type": "code",
   "execution_count": 3,
   "metadata": {},
   "outputs": [],
   "source": [
    "def fast_exp(base, exp):\n",
    "    # O(log n)\n",
    "    res = pow(base, exp//2, p)\n",
    "    res = pow(res, 2, p) # squaring a number is super fast!\n",
    "    if exp % 2 == 1:\n",
    "        res *= base\n",
    "        res %= p\n",
    "    return res\n",
    "def slow_log(base, num):\n",
    "    # O(n)\n",
    "    res = 0\n",
    "    while num > 1:\n",
    "        num *= pow(base, -1, p) # keep multiplying by base^-1 mod p until we get to 1...\n",
    "        num %= p\n",
    "        res += 1\n",
    "    return res"
   ]
  },
  {
   "cell_type": "markdown",
   "metadata": {},
   "source": [
    "It's important to note that taking a power is *much* faster than taking a logarithm. While exponentiation is $O(\\log n)$, logarithms are $O(n)$. With the giant numbers used in practical cryptographic systems, this makes a big difference. Let's see it in action:"
   ]
  },
  {
   "cell_type": "code",
   "execution_count": 25,
   "metadata": {},
   "outputs": [
    {
     "name": "stdout",
     "output_type": "stream",
     "text": [
      "Timing 3^500\n",
      "Exponentiation time: 5.006790 µs\n",
      "Logarithm time: 643.014908 µs\n",
      "Ratio: 128.428571\n",
      "\n",
      "Timing 4^500\n",
      "Exponentiation time: 5.245209 µs\n",
      "Logarithm time: 638.008118 µs\n",
      "Ratio: 121.636364\n",
      "\n",
      "Timing 2^1000\n",
      "Exponentiation time: 4.768372 µs\n",
      "Logarithm time: 1308.202744 µs\n",
      "Ratio: 274.350000\n",
      "\n"
     ]
    },
    {
     "data": {
      "text/plain": [
       "(4.76837158203125, 1308.2027435302734)"
      ]
     },
     "execution_count": 25,
     "metadata": {},
     "output_type": "execute_result"
    }
   ],
   "source": [
    "# You don't need to understand this code, just run it and see the output\n",
    "import time\n",
    "def time_exp_log(base, exp, disp=True):\n",
    "    if disp: print(\"Timing %d^%d\" % (base,exp))\n",
    "    start_exp = time.time()\n",
    "    do_pow = fast_exp(base, exp)\n",
    "    exp_time = (time.time()-start_exp)*1000000\n",
    "    start_log = time.time()\n",
    "    do_log = slow_log(base, do_pow)\n",
    "    log_time = (time.time()-start_log)*1000000\n",
    "    assert do_log == exp\n",
    "\n",
    "    if disp:\n",
    "        print(\"Exponentiation time: %f µs\" % (exp_time))\n",
    "        print(\"Logarithm time: %f µs\" % (log_time))\n",
    "        print(\"Ratio: %f\\n\" % (log_time/exp_time))\n",
    "    return exp_time, log_time\n",
    "\n",
    "time_exp_log(3, 500)\n",
    "time_exp_log(4, 500)\n",
    "time_exp_log(2, 1000)"
   ]
  },
  {
   "cell_type": "markdown",
   "metadata": {},
   "source": [
    "With the small-ish $p$ and $q$ prime numbers that we chose, this difference is already noticeable. In practice, the logarithm takes so long that it is computationally infeasible to perform. This means that given an $a$, we can easily compute $g^a$; but given just $g^a$, it is nearly impossible for us to go back to $a$. As a rough estimate, let's take a real-world example for $p$."
   ]
  },
  {
   "cell_type": "code",
   "execution_count": 6,
   "metadata": {},
   "outputs": [],
   "source": [
    "real_p = 0xB10B8F96A080E01DDE92DE5EAE5D54EC52C99FBCFB06A3C69A6A9DCA52D23B616073E28675A23D189838EF1E2EE652C013ECB4AEA906112324975C3CD49B83BFACCBDD7D90C4BD7098488E9C219A73724EFFD6FAE5644738FAA31A4FF55BCCC0A151AF5F0DC8B4BD45BF37DF365C1A65E68CFDA76D4DA708DF1FB2BC2E4A4371"
   ]
  },
  {
   "cell_type": "code",
   "execution_count": 34,
   "metadata": {},
   "outputs": [
    {
     "name": "stdout",
     "output_type": "stream",
     "text": [
      "In a real-world cryptography system:\n",
      "An exponentiation might take about 2.659638 ms\n",
      "A logarithm might take about 277186825358268661696568785736777773202376449264643049952160802014051794743821435495002156869420903889305640671858112983732365857931613026319023822122384871573545163782823426013614725514513170910834779704938950977946243741046209953196359098341709988552964282597142798166557151211155366084608 years\n",
      "The age of the universe is about 13700000000 years\n"
     ]
    }
   ],
   "source": [
    "# How long might these operations take with real-world numbers?\n",
    "# You don't need to understand this code, just run it and see the output\n",
    "exp_t, log_t = time_exp_log(2, 10, disp=False)\n",
    "import math\n",
    "exp_t *= math.log(real_p / p) # O(log n)\n",
    "exp_t *= 1/1000 # µs to ms\n",
    "print(\"In a real-world cryptography system:\")\n",
    "print(\"An exponentiation might take about %f ms\" % (exp_t))\n",
    "log_t *= real_p / p # O(n)\n",
    "log_t *= 1/1000000 * 1/60 * 1/60 * 1/24 * 1/365.2422 # µs to years\n",
    "print(\"A logarithm might take about %d years\" % (log_t))\n",
    "print(\"The age of the universe is about %d years\" % (13.7e9))\n",
    "# Of course, 2^10 wouldn't actually take this long, but some numbers might"
   ]
  },
  {
   "cell_type": "markdown",
   "metadata": {},
   "source": [
    "Yeah... I think we can rest assured that Vector won't even try to calculate any logarithms.\n",
    "\n",
    "With that out of the way, we can move on to our next concept: **hash functions**. A hash function is basically a one-way function that seems random, but always gives the same output for the same input. However, if we have the output of a hash function, there is no way to predict what the input was. **SHA-256** is a hash function that is commonly used in practice."
   ]
  },
  {
   "cell_type": "code",
   "execution_count": 36,
   "metadata": {},
   "outputs": [
    {
     "name": "stdout",
     "output_type": "stream",
     "text": [
      "this is a test of SHA-256 -> 8060e2c7986e6d7d0cd05b505821eb66c55b3ae31dc4d24c3cd3c938bb3536b7\n",
      "hi -> 8f434346648f6b96df89dda901c5176b10a6d83961dd3c1ac88b59b2dc327aa4\n",
      "Hi -> 3639efcd08abb273b1619e82e78c29a7df02c1051b1820e99fc395dcaa3326b8\n",
      "hi -> 8f434346648f6b96df89dda901c5176b10a6d83961dd3c1ac88b59b2dc327aa4\n"
     ]
    }
   ],
   "source": [
    "import hashlib\n",
    "def hash_str(str):\n",
    "    return hashlib.sha256(str.encode('utf-8')).hexdigest()\n",
    "def hash(x):\n",
    "    return int(hash_str(str), 16)\n",
    "\n",
    "print(\"this is a test of SHA-256 ->\", hash_str(\"this is a test of SHA-256\")) # the output is 256 bits\n",
    "print(\"hi ->\", hash_str(\"hi\")) # always 256 bits, regardless of the length of the input\n",
    "print(\"Hi ->\", hash_str(\"Hi\")) # completely different from \"hi\"\n",
    "print(\"hi ->\", hash_str(\"hi\")) # same as when we did \"hi\" before"
   ]
  },
  {
   "cell_type": "markdown",
   "metadata": {},
   "source": [
    "Great! Now we are ready to actually implement a scheme to protect Gru. We will use the **Digital Signature Algorithm (DSA)**. With this algorithm, Gru can sign any of his authentic evil messages and the rest of the world can verify that they are not fakes from Vector. Vector will be unable to sign any of the deepfakes.\n",
    "\n",
    "First, we will do the **keygen** part of the algorithm. We want Gru to have a **signing key** $\\mathrm{sk}$ that *only he knows.* This should be chosen randomly from $\\{1,\\dots,q-1\\}$. Next, we will calculate an exponent base $g = 2^{(p-1)/q} \\mod p$ that *everyone knows*. Finally, we will give Gru a **verification key** $\\mathrm{vk} = g^\\mathrm{sk} \\mod p$ that *anyone can use* to check if a message is really from Gru or not."
   ]
  },
  {
   "cell_type": "code",
   "execution_count": null,
   "metadata": {},
   "outputs": [],
   "source": [
    "g = 0 # TODO: replace this with the real value of g using the pow(a, b, p) function\n",
    "\n",
    "import random\n",
    "def dsa_keygen():\n",
    "    sk = random.randint(1, q-1)\n",
    "    vk = #TODO: fill this in with g^sk mod p using the pow(a, b, p) function\n",
    "    return (sk, vk)"
   ]
  },
  {
   "cell_type": "markdown",
   "metadata": {},
   "source": [
    "Next we will do the **signing** part of the algorithm. We want Gru to use his **signing key** $\\mathrm{sk}$ to sign any message he likes. The DSA signing procedure is:\n",
    "1. Choose a random $k$ from $\\{1,2,\\dots,q-1\\}$\n",
    "2. Compute $r := \\left(g^k \\mod p\\right) \\mod q$\n",
    "3. Compute $s := \\left(k^{-1} (H(m) + \\mathrm{sk} \\cdot r)\\right) \\mod q$, where $H$ is the `hash` function and $m$ is the message Gru wants to sign.\n",
    "\n",
    "The signature is $(r,s)$. Let's implement this:"
   ]
  },
  {
   "cell_type": "code",
   "execution_count": null,
   "metadata": {},
   "outputs": [],
   "source": [
    "def dsa_sign(message, sk):\n",
    "    k = random.randint(1, q-1)\n",
    "    r = pow(g, k, p) % q\n",
    "    k_inv = pow(k, -1, p)\n",
    "    s = # TODO: fill this in with (k^-1 * (H(m) + sk * r)) mod q\n",
    "\n",
    "    if r == 0 or s == 0: return dsa_sign(message, sk) # try again with a different random k if necessary\n",
    "    return (r, s)"
   ]
  },
  {
   "cell_type": "markdown",
   "metadata": {},
   "source": [
    "Finally, we will do the **verification** part of the algorithm. The procedure to verify a signature $(r,s)$ is:\n",
    "1. Compute $w = s^{-1} \\mod q$. Remember $s$ comes from the signature we are trying to verify!\n",
    "2. Compute $u_1 = H(m) \\cdot w \\mod q$. Remember $H(m)$ is the `hash` of the message we want to encrypt.\n",
    "3. Compute $u_2 = r \\cdot w \\mod q$. Remember $r$ comes from the signature.\n",
    "4. Compute $v = (g^{u_1} \\mathrm{vk}^{u_2} \\mod p) \\mod q$.\n",
    "5. The signature is valid if and only if $v = r$.\n",
    "\n",
    "Let's implement this:"
   ]
  },
  {
   "cell_type": "code",
   "execution_count": null,
   "metadata": {},
   "outputs": [],
   "source": [
    "def dsa_verify(message, signature, vk):\n",
    "    r, s = signature\n",
    "    w = pow(s, -1, q)\n",
    "    u1 = (hash(message) * w) % q\n",
    "    u2 = (r * w) % q\n",
    "    v = # TODO: fill this in using the pow(a, b, p) function and % q for mod q\n",
    "    return v == r"
   ]
  },
  {
   "cell_type": "markdown",
   "metadata": {},
   "source": [
    "Great! Now we need to test that the algorithm works."
   ]
  },
  {
   "cell_type": "code",
   "execution_count": null,
   "metadata": {},
   "outputs": [],
   "source": [
    "gru_sk, gru_vk = dsa_keygen()\n",
    "message1 = \"I am Gru and I am going to steal the moon!\"\n",
    "gru_sign = dsa_sign(message1, gru_sk)\n",
    "assert(dsa_verify(message1, signature=gru_sign, vk=gru_vk))"
   ]
  },
  {
   "cell_type": "markdown",
   "metadata": {},
   "source": [
    "Now, what if Vector tries to create a fake message?"
   ]
  },
  {
   "cell_type": "code",
   "execution_count": null,
   "metadata": {},
   "outputs": [],
   "source": [
    "vector_sk, vector_vk = dsa_keygen()\n",
    "message2 = \"I am Gru and I am a pathetic failed villain.\"\n",
    "gru_fake_sign = dsa_sign(message2, vector_sk) # Vector does not have access to gru_sk!\n",
    "assert(dsa_verify(message2, gru_fake_sign, gru_vk)) # This fails because the message is not from Gru.\n",
    "assert(dsa_verify(message2, gru_fake_sign, vector_vk)) # This works because the message is from Vector."
   ]
  },
  {
   "cell_type": "markdown",
   "metadata": {},
   "source": [
    "### Good job! You saved Gru's evil reputation and stopped Vector!\n",
    "![Vector on the moon](https://wallpapers.com/images/hd/despicable-me-villain-vector-3t80vfhyu747senz.jpg)"
   ]
  }
 ],
 "metadata": {
  "kernelspec": {
   "display_name": "Python 3 (ipykernel)",
   "language": "python",
   "name": "python3"
  },
  "language_info": {
   "codemirror_mode": {
    "name": "ipython",
    "version": 3
   },
   "file_extension": ".py",
   "mimetype": "text/x-python",
   "name": "python",
   "nbconvert_exporter": "python",
   "pygments_lexer": "ipython3",
   "version": "3.8.8"
  }
 },
 "nbformat": 4,
 "nbformat_minor": 2
}
