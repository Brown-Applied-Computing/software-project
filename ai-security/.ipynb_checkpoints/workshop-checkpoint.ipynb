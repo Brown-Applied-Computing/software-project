{
 "cells": [
  {
   "cell_type": "markdown",
   "metadata": {},
   "source": [
    "# Brown Applied Computing\n",
    "## Software Workshop: Deepfakes, cryptography, and AI\n",
    "\n",
    "**Scenario:** Vector has just gained access to the latest AI deepfake technology and is using it to spread misinformation about Gru. He has created false media showing Gru doing things such as rescuing innocent citizens in trouble, being friendly to his neighbors, and and raising money for charity. Naturally, as a supervillain, Gru is unhappy about this. **Help Gru use cryptography to expose Vector's misinformation campaign and restore his reputation as a supervillain!**\n",
    "\n",
    "![Gru using a freeze ray on Vector](gru_vector.jpg)"
   ]
  },
  {
   "cell_type": "code",
   "execution_count": null,
   "metadata": {},
   "outputs": [],
   "source": []
  },
  {
   "cell_type": "code",
   "execution_count": null,
   "metadata": {
    "vscode": {
     "languageId": "plaintext"
    }
   },
   "outputs": [],
   "source": [
    "# We will start with some large prime numbers p and q. It is important that p-1 is divisible by q.\n",
    "p = 199933\n",
    "q = 16661\n",
    "assert ((p-1)/q) % 1.0 == 0 # check divisibility"
   ]
  },
  {
   "cell_type": "code",
   "execution_count": null,
   "metadata": {},
   "outputs": [],
   "source": []
  },
  {
   "cell_type": "code",
   "execution_count": null,
   "metadata": {},
   "outputs": [],
   "source": []
  }
 ],
 "metadata": {
  "kernelspec": {
   "display_name": "Python 3 (ipykernel)",
   "language": "python",
   "name": "python3"
  },
  "language_info": {
   "codemirror_mode": {
    "name": "ipython",
    "version": 3
   },
   "file_extension": ".py",
   "mimetype": "text/x-python",
   "name": "python",
   "nbconvert_exporter": "python",
   "pygments_lexer": "ipython3",
   "version": "3.8.8"
  }
 },
 "nbformat": 4,
 "nbformat_minor": 2
}
